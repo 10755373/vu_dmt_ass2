{
 "cells": [
  {
   "cell_type": "code",
   "execution_count": 1,
   "metadata": {},
   "outputs": [],
   "source": [
    "import pandas as pd\n",
    "import matplotlib.pyplot as plt\n",
    "from sklearn.ensemble import RandomForestClassifier\n",
    "from sklearn.ensemble import GradientBoostingClassifier\n",
    "from sklearn.ensemble import BaggingClassifier\n",
    "from sklearn.ensemble import AdaBoostClassifier\n",
    "from sklearn.ensemble import ExtraTreesClassifier\n",
    "from sklearn.neural_network import MLPClassifier\n",
    "from sklearn.naive_bayes import GaussianNB\n",
    "from sklearn.naive_bayes import BernoulliNB\n",
    "from sklearn.naive_bayes import MultinomialNB\n",
    "from sklearn import metrics\n",
    "from sklearn.model_selection import train_test_split\n",
    "from sklearn.preprocessing import MinMaxScaler\n",
    "import random\n",
    "import numpy as np\n",
    "from datetime import datetime\n",
    "from collections import Counter\n",
    "from __future__ import division\n",
    "\n",
    "from collections import Counter\n",
    "from dateutil.relativedelta import relativedelta\n",
    "import numpy as np\n",
    "import seaborn as sns\n",
    "import matplotlib.pyplot as plt\n",
    "import pandas as pd\n",
    "from matplotlib import colors"
   ]
  },
  {
   "cell_type": "code",
   "execution_count": 2,
   "metadata": {},
   "outputs": [],
   "source": [
    "def evaluate(Y_test,predict_test):\n",
    "    \n",
    "    confusion=metrics.confusion_matrix(Y_test, predict_test)\n",
    "    #[row, column]\n",
    "    TP = confusion[1, 1]\n",
    "    TN = confusion[0, 0]\n",
    "    FP = confusion[0, 1]\n",
    "    FN = confusion[1, 0]\n",
    "    specificity = TN / (TN + FP)\n",
    "    print('Acuraccy:',metrics.accuracy_score(Y_test, predict_test))\n",
    "    print('Confusion matrix:',confusion)\n",
    "    print('TP=',TP)\n",
    "    print('TN=',TN)\n",
    "    print('FP=',FP)\n",
    "    print('FN=',FN)\n",
    "    print('classification_error',1 - metrics.accuracy_score(Y_test, predict_test))\n",
    "    #print('Sensitivity',metrics.recall_score(Y_test, predict_test))\n",
    "    print('Specificity',specificity)\n",
    "    print('False positive rate',1 - specificity)\n",
    "    #print('Precision',metrics.precision_score(Y_test, predict_test))\n",
    "    # IMPORTANT: first argument is true values, second argument is predicted probabilities\n",
    "    print('AUC',metrics.roc_auc_score(Y_test, predict_test))\n",
    "\n",
    "    fpr, tpr, thresholds = metrics.roc_curve(Y_test, predict_test)\n",
    "\n",
    "    plt.plot(fpr, tpr)\n",
    "    plt.xlim([0.0, 1.0])\n",
    "    plt.ylim([0.0, 1.0])\n",
    "    plt.rcParams['font.size'] = 12\n",
    "    plt.title('ROC curve for classifier')\n",
    "    plt.xlabel('False Positive Rate (1 - Specificity)')\n",
    "    plt.ylabel('True Positive Rate (Sensitivity)')\n",
    "    plt.grid(True)"
   ]
  },
  {
   "cell_type": "code",
   "execution_count": 3,
   "metadata": {},
   "outputs": [],
   "source": [
    "def print_evaluation_metrics(trained_model,trained_model_name,X_test,y_test):\n",
    "    print('--------- Model : ', trained_model_name, ' ---------------\\n')\n",
    "    predicted_values = trained_model.predict(X_test)\n",
    "    print(metrics.classification_report(y_test,predicted_values))\n",
    "    print(\"Accuracy Score : \",metrics.accuracy_score(y_test,predicted_values))\n",
    "    print(\"---------------------------------------\\n\")"
   ]
  },
  {
   "cell_type": "code",
   "execution_count": 4,
   "metadata": {},
   "outputs": [],
   "source": [
    "test = pd.read_csv(\"test_set_VU_DM.csv\")\n",
    "train = pd.read_csv(\"training_set_VU_DM.csv\")"
   ]
  },
  {
   "cell_type": "code",
   "execution_count": 5,
   "metadata": {},
   "outputs": [],
   "source": [
    "numeric_features=[\"prop_starrating\",\"prop_review_score\", \"prop_location_score1\",\"prop_location_score2\"]"
   ]
  },
  {
   "cell_type": "code",
   "execution_count": 6,
   "metadata": {},
   "outputs": [],
   "source": [
    "all_data = pd.concat([train,test], copy=False)"
   ]
  },
  {
   "cell_type": "code",
   "execution_count": 7,
   "metadata": {},
   "outputs": [],
   "source": [
    "for label in numeric_features:\n",
    "    mean = all_data.groupby(\"prop_id\")[label].mean().fillna(value=-1)\n",
    "    median = all_data.groupby(\"prop_id\")[label].median().fillna(value=-1)\n",
    "\n",
    "    for d in (train, test):\n",
    "        d[label + \"_mean\"] = mean[d.prop_id].values\n",
    "        d[label + \"_median\"] = median[d.prop_id].values"
   ]
  },
  {
   "cell_type": "code",
   "execution_count": 8,
   "metadata": {},
   "outputs": [],
   "source": [
    "df = train"
   ]
  },
  {
   "cell_type": "code",
   "execution_count": 9,
   "metadata": {},
   "outputs": [
    {
     "data": {
      "text/plain": [
       "Index(['srch_id', 'date_time', 'site_id', 'visitor_location_country_id',\n",
       "       'visitor_hist_starrating', 'visitor_hist_adr_usd', 'prop_country_id',\n",
       "       'prop_id', 'prop_starrating', 'prop_review_score', 'prop_brand_bool',\n",
       "       'prop_location_score1', 'prop_location_score2',\n",
       "       'prop_log_historical_price', 'position', 'price_usd', 'promotion_flag',\n",
       "       'srch_destination_id', 'srch_length_of_stay', 'srch_booking_window',\n",
       "       'srch_adults_count', 'srch_children_count', 'srch_room_count',\n",
       "       'srch_saturday_night_bool', 'srch_query_affinity_score',\n",
       "       'orig_destination_distance', 'random_bool', 'comp1_rate', 'comp1_inv',\n",
       "       'comp1_rate_percent_diff', 'comp2_rate', 'comp2_inv',\n",
       "       'comp2_rate_percent_diff', 'comp3_rate', 'comp3_inv',\n",
       "       'comp3_rate_percent_diff', 'comp4_rate', 'comp4_inv',\n",
       "       'comp4_rate_percent_diff', 'comp5_rate', 'comp5_inv',\n",
       "       'comp5_rate_percent_diff', 'comp6_rate', 'comp6_inv',\n",
       "       'comp6_rate_percent_diff', 'comp7_rate', 'comp7_inv',\n",
       "       'comp7_rate_percent_diff', 'comp8_rate', 'comp8_inv',\n",
       "       'comp8_rate_percent_diff', 'click_bool', 'gross_bookings_usd',\n",
       "       'booking_bool', 'prop_starrating_mean', 'prop_starrating_median',\n",
       "       'prop_review_score_mean', 'prop_review_score_median',\n",
       "       'prop_location_score1_mean', 'prop_location_score1_median',\n",
       "       'prop_location_score2_mean', 'prop_location_score2_median'],\n",
       "      dtype='object')"
      ]
     },
     "execution_count": 9,
     "metadata": {},
     "output_type": "execute_result"
    }
   ],
   "source": [
    "df.columns"
   ]
  },
  {
   "cell_type": "code",
   "execution_count": 30,
   "metadata": {
    "scrolled": true
   },
   "outputs": [
    {
     "data": {
      "text/plain": [
       "srch_id                              0\n",
       "date_time                            0\n",
       "site_id                              0\n",
       "visitor_location_country_id          0\n",
       "prop_country_id                      0\n",
       "prop_id                              0\n",
       "prop_starrating                      0\n",
       "prop_review_score                 7364\n",
       "prop_brand_bool                      0\n",
       "prop_location_score1                 0\n",
       "prop_location_score2           1090348\n",
       "prop_log_historical_price            0\n",
       "price_usd                            0\n",
       "promotion_flag                       0\n",
       "srch_destination_id                  0\n",
       "srch_length_of_stay                  0\n",
       "srch_booking_window                  0\n",
       "srch_adults_count                    0\n",
       "srch_children_count                  0\n",
       "srch_room_count                      0\n",
       "srch_saturday_night_bool             0\n",
       "orig_destination_distance      1607782\n",
       "random_bool                          0\n",
       "click_bool                           0\n",
       "booking_bool                         0\n",
       "prop_historical_price                0\n",
       "count_window                         0\n",
       "prop_starrating_mean                 0\n",
       "prop_starrating_median               0\n",
       "prop_review_score_mean               0\n",
       "prop_review_score_median             0\n",
       "prop_location_score1_mean            0\n",
       "prop_location_score1_median          0\n",
       "prop_location_score2_mean            0\n",
       "prop_location_score2_median          0\n",
       "dtype: int64"
      ]
     },
     "execution_count": 30,
     "metadata": {},
     "output_type": "execute_result"
    }
   ],
   "source": [
    "df.isnull().sum()"
   ]
  },
  {
   "cell_type": "code",
   "execution_count": 10,
   "metadata": {},
   "outputs": [],
   "source": [
    "cols_to_drop = ['position','visitor_hist_starrating', 'visitor_hist_adr_usd', 'srch_query_affinity_score', 'comp1_rate', 'comp1_inv', 'comp1_rate_percent_diff', 'comp2_rate_percent_diff', 'comp3_rate_percent_diff', 'comp4_rate_percent_diff', 'comp5_rate_percent_diff', 'comp6_rate_percent_diff', 'comp7_rate_percent_diff', 'comp8_rate_percent_diff', 'comp2_rate', 'comp3_rate', 'comp4_rate', 'comp5_rate', 'comp6_rate', 'comp7_rate', 'comp8_rate', 'comp2_inv', 'comp3_inv', 'comp4_inv', 'comp5_inv', 'comp6_inv', 'comp7_inv', 'comp8_inv', 'gross_bookings_usd']\n",
    "df.drop(cols_to_drop, axis=1, inplace=True)"
   ]
  },
  {
   "cell_type": "code",
   "execution_count": 11,
   "metadata": {},
   "outputs": [],
   "source": [
    "cols_to_drop2 = ['visitor_hist_starrating', 'visitor_hist_adr_usd', 'srch_query_affinity_score', 'comp1_rate', 'comp1_inv', 'comp1_rate_percent_diff', 'comp2_rate_percent_diff', 'comp3_rate_percent_diff', 'comp4_rate_percent_diff', 'comp5_rate_percent_diff', 'comp6_rate_percent_diff', 'comp7_rate_percent_diff', 'comp8_rate_percent_diff', 'comp2_rate', 'comp3_rate', 'comp4_rate', 'comp5_rate', 'comp6_rate', 'comp7_rate', 'comp8_rate', 'comp2_inv', 'comp3_inv', 'comp4_inv', 'comp5_inv', 'comp6_inv', 'comp7_inv', 'comp8_inv']\n",
    "test.drop(cols_to_drop2, axis=1, inplace=True)"
   ]
  },
  {
   "cell_type": "code",
   "execution_count": 43,
   "metadata": {},
   "outputs": [],
   "source": [
    "def outliers():\n",
    "    cols = [\n",
    "            'prop_location_score2',\n",
    "            'prop_location_score1',\n",
    "            'srch_booking_window',\n",
    "            'price_usd',\n",
    "            'prop_historical_price',\n",
    "            'orig_destination_distance',\n",
    "            ]\n",
    "    fig, axarr = plt.subplots(figsize=(1200/120, 300/120))\n",
    "   # ax = df[cols].boxplot(rot=90, return_type=\"axes\", sym='k.', showfliers=True)\n",
    "    \"\"\"\n",
    "    train[cols].boxplot(vert=False, sym='k.')\n",
    "    plt.xscale('log')\n",
    "    \"\"\"\n",
    "    #vals = [x.dropna() for y,x in df[cols].iteritems()]\n",
    "    ax = sns.boxplot(data=df[cols], orient='h', fliersize=2)\n",
    "    ax.set_xscale('log')\n",
    "    plt.xlim(xmin=1e-4)\n",
    "    plt.subplots_adjust(left=0.3, bottom=0.1)\n",
    "    plt.savefig(\"outliers\", dpi=400)"
   ]
  },
  {
   "cell_type": "code",
   "execution_count": 44,
   "metadata": {},
   "outputs": [
    {
     "data": {
      "image/png": "[encoded data removed]",
      "text/plain": [
       "<Figure size 720x180 with 1 Axes>"
      ]
     },
     "metadata": {
      "needs_background": "light"
     },
     "output_type": "display_data"
    }
   ],
   "source": [
    "outliers()"
   ]
  },
  {
   "cell_type": "code",
   "execution_count": 12,
   "metadata": {},
   "outputs": [],
   "source": [
    "#preproces\n",
    "# sanitize prop_log_historical_price\n",
    "df[\"prop_historical_price\"] = (np.e ** df[\"prop_log_historical_price\"]).replace(1.0, 10000)"
   ]
  },
  {
   "cell_type": "code",
   "execution_count": 13,
   "metadata": {},
   "outputs": [],
   "source": [
    "test[\"prop_historical_price\"] = (np.e ** test[\"prop_log_historical_price\"]).replace(1.0, 10000)"
   ]
  },
  {
   "cell_type": "code",
   "execution_count": 14,
   "metadata": {},
   "outputs": [],
   "source": [
    "test=test.drop(['prop_log_historical_price'], 1)"
   ]
  },
  {
   "cell_type": "code",
   "execution_count": 15,
   "metadata": {},
   "outputs": [],
   "source": [
    "df=df.drop(['prop_log_historical_price'], 1)"
   ]
  },
  {
   "cell_type": "code",
   "execution_count": 16,
   "metadata": {},
   "outputs": [],
   "source": [
    "# From paper \"Combination of Diverse Ranking Models for Personalized Expedia Hotel Searches\"\n",
    "df[\"count_window\"] = df[\"srch_room_count\"] * max(df[\"srch_booking_window\"]) + df[\"srch_booking_window\"]"
   ]
  },
  {
   "cell_type": "code",
   "execution_count": 17,
   "metadata": {},
   "outputs": [],
   "source": [
    "test[\"count_window\"] = test[\"srch_room_count\"] * max(test[\"srch_booking_window\"]) + test[\"srch_booking_window\"]"
   ]
  },
  {
   "cell_type": "code",
   "execution_count": 18,
   "metadata": {},
   "outputs": [],
   "source": [
    "#remove outliers\n",
    "df = df[df[\"price_usd\"] < 10000]"
   ]
  },
  {
   "cell_type": "code",
   "execution_count": 17,
   "metadata": {},
   "outputs": [
    {
     "data": {
      "text/plain": [
       "(4956353, 35)"
      ]
     },
     "execution_count": 17,
     "metadata": {},
     "output_type": "execute_result"
    }
   ],
   "source": [
    "df.shape"
   ]
  },
  {
   "cell_type": "code",
   "execution_count": 18,
   "metadata": {},
   "outputs": [
    {
     "data": {
      "text/plain": [
       "(4959183, 33)"
      ]
     },
     "execution_count": 18,
     "metadata": {},
     "output_type": "execute_result"
    }
   ],
   "source": [
    "test.shape"
   ]
  },
  {
   "cell_type": "code",
   "execution_count": 19,
   "metadata": {},
   "outputs": [],
   "source": [
    "def calc_fast_features(df):\n",
    "    df[\"date_time\"] = pd.to_datetime(df[\"date_time\"])\n",
    "\n",
    "    props = {}\n",
    "    for prop in [\"month\", \"dayofweek\", \"hour\"]:\n",
    "        props[prop] = getattr(df[\"date_time\"].dt, prop)\n",
    "\n",
    "    carryover = [p for p in df.columns if p not in [\"date_time\"]]\n",
    "    for prop in carryover:\n",
    "        props[prop] = df[prop]\n",
    "\n",
    "    ret = pd.DataFrame(props)\n",
    "    \n",
    "    return ret\n"
   ]
  },
  {
   "cell_type": "code",
   "execution_count": 20,
   "metadata": {},
   "outputs": [],
   "source": [
    "df=calc_fast_features(df)"
   ]
  },
  {
   "cell_type": "code",
   "execution_count": 21,
   "metadata": {},
   "outputs": [],
   "source": [
    "test=calc_fast_features(test)"
   ]
  },
  {
   "cell_type": "code",
   "execution_count": 27,
   "metadata": {},
   "outputs": [
    {
     "data": {
      "text/plain": [
       "month                                0\n",
       "dayofweek                            0\n",
       "hour                                 0\n",
       "srch_id                              0\n",
       "site_id                              0\n",
       "visitor_location_country_id          0\n",
       "prop_country_id                      0\n",
       "prop_id                              0\n",
       "prop_starrating                      0\n",
       "prop_review_score                 7358\n",
       "prop_brand_bool                      0\n",
       "prop_location_score1                 0\n",
       "prop_location_score2           1089964\n",
       "price_usd                            0\n",
       "promotion_flag                       0\n",
       "srch_destination_id                  0\n",
       "srch_length_of_stay                  0\n",
       "srch_booking_window                  0\n",
       "srch_adults_count                    0\n",
       "srch_children_count                  0\n",
       "srch_room_count                      0\n",
       "srch_saturday_night_bool             0\n",
       "orig_destination_distance      1606549\n",
       "random_bool                          0\n",
       "click_bool                           0\n",
       "booking_bool                         0\n",
       "prop_starrating_mean                 0\n",
       "prop_starrating_median               0\n",
       "prop_review_score_mean               0\n",
       "prop_review_score_median             0\n",
       "prop_location_score1_mean            0\n",
       "prop_location_score1_median          0\n",
       "prop_location_score2_mean            0\n",
       "prop_location_score2_median          0\n",
       "prop_historical_price                0\n",
       "count_window                         0\n",
       "dtype: int64"
      ]
     },
     "execution_count": 27,
     "metadata": {},
     "output_type": "execute_result"
    }
   ],
   "source": [
    "df.isnull().sum()"
   ]
  },
  {
   "cell_type": "code",
   "execution_count": 26,
   "metadata": {},
   "outputs": [
    {
     "data": {
      "text/plain": [
       "month                                0\n",
       "dayofweek                            0\n",
       "hour                                 0\n",
       "srch_id                              0\n",
       "site_id                              0\n",
       "visitor_location_country_id          0\n",
       "prop_country_id                      0\n",
       "prop_id                              0\n",
       "prop_starrating                      0\n",
       "prop_review_score                 7266\n",
       "prop_brand_bool                      0\n",
       "prop_location_score1                 0\n",
       "prop_location_score2           1088032\n",
       "price_usd                            0\n",
       "promotion_flag                       0\n",
       "srch_destination_id                  0\n",
       "srch_length_of_stay                  0\n",
       "srch_booking_window                  0\n",
       "srch_adults_count                    0\n",
       "srch_children_count                  0\n",
       "srch_room_count                      0\n",
       "srch_saturday_night_bool             0\n",
       "orig_destination_distance      1608679\n",
       "random_bool                          0\n",
       "prop_starrating_mean                 0\n",
       "prop_starrating_median               0\n",
       "prop_review_score_mean               0\n",
       "prop_review_score_median             0\n",
       "prop_location_score1_mean            0\n",
       "prop_location_score1_median          0\n",
       "prop_location_score2_mean            0\n",
       "prop_location_score2_median          0\n",
       "prop_historical_price                0\n",
       "count_window                         0\n",
       "dtype: int64"
      ]
     },
     "execution_count": 26,
     "metadata": {},
     "output_type": "execute_result"
    }
   ],
   "source": [
    "test.isnull().sum()"
   ]
  },
  {
   "cell_type": "code",
   "execution_count": 22,
   "metadata": {},
   "outputs": [],
   "source": [
    "# fill missing values with worst case scenario. Source: Jun Wang 3rd place\n",
    "# [\"prop_review_score\", \"prop_location_score2\", \"orig_destination_distance\"]\n",
    "df = df.fillna(value=-1)\n",
    "test = test.fillna(value=-1)"
   ]
  },
  {
   "cell_type": "code",
   "execution_count": 23,
   "metadata": {},
   "outputs": [
    {
     "name": "stdout",
     "output_type": "stream",
     "text": [
      "Percentage of not click impressions:  0.5\n",
      "Percentage of click impression:  0.5\n",
      "Total number of records in resampled data:  443570\n"
     ]
    }
   ],
   "source": [
    "#balancing dataset\n",
    "click_indices = df[df.click_bool == 1].index\n",
    "random_indices = np.random.choice(click_indices, len(df.loc[df.click_bool == 1]), replace=False)\n",
    "click_sample = df.loc[random_indices]\n",
    "\n",
    "not_click = df[df.click_bool == 0].index\n",
    "random_indices = np.random.choice(not_click, sum(df['click_bool']), replace=False)\n",
    "not_click_sample = df.loc[random_indices]\n",
    "\n",
    "df_new = pd.concat([not_click_sample, click_sample], axis=0)\n",
    "\n",
    "print(\"Percentage of not click impressions: \", len(df_new[df_new.click_bool == 0])/len(df_new))\n",
    "print(\"Percentage of click impression: \", len(df_new[df_new.click_bool == 1])/len(df_new))\n",
    "print(\"Total number of records in resampled data: \", len(df_new))"
   ]
  },
  {
   "cell_type": "code",
   "execution_count": 42,
   "metadata": {},
   "outputs": [
    {
     "data": {
      "text/plain": [
       "(4959183, 35)"
      ]
     },
     "execution_count": 42,
     "metadata": {},
     "output_type": "execute_result"
    }
   ],
   "source": [
    "test.shape"
   ]
  },
  {
   "cell_type": "code",
   "execution_count": 20,
   "metadata": {},
   "outputs": [],
   "source": [
    "from sklearn.utils import resample"
   ]
  },
  {
   "cell_type": "code",
   "execution_count": 21,
   "metadata": {},
   "outputs": [],
   "source": [
    "df1click=df[df.click_bool == 1]\n",
    "df0click=df[df.click_bool == 0]\n",
    "\n",
    "df1clickupsample=resample(df1click,replace=True,n_samples=4736468,random_state=1000000)\n",
    "dfupsampled=pd.concat([df0click,df1clickupsample])"
   ]
  },
  {
   "cell_type": "code",
   "execution_count": 31,
   "metadata": {
    "scrolled": true
   },
   "outputs": [
    {
     "data": {
      "text/plain": [
       "1    4736468\n",
       "0    4734568\n",
       "Name: click_bool, dtype: int64"
      ]
     },
     "execution_count": 31,
     "metadata": {},
     "output_type": "execute_result"
    }
   ],
   "source": [
    "dfupsampled['click_bool'].value_counts()"
   ]
  },
  {
   "cell_type": "code",
   "execution_count": 22,
   "metadata": {},
   "outputs": [],
   "source": [
    "dfupsampled=dfupsampled.drop(['prop_log_historical_price'], 1)\n",
    "test=test.drop(['prop_log_historical_price'], 1)"
   ]
  },
  {
   "cell_type": "code",
   "execution_count": 33,
   "metadata": {},
   "outputs": [
    {
     "data": {
      "text/plain": [
       "Index(['month', 'dayofweek', 'hour', 'srch_id', 'site_id',\n",
       "       'visitor_location_country_id', 'prop_country_id', 'prop_id',\n",
       "       'prop_starrating', 'prop_review_score', 'prop_brand_bool',\n",
       "       'prop_location_score1', 'prop_location_score2', 'price_usd',\n",
       "       'promotion_flag', 'srch_destination_id', 'srch_length_of_stay',\n",
       "       'srch_booking_window', 'srch_adults_count', 'srch_children_count',\n",
       "       'srch_room_count', 'srch_saturday_night_bool',\n",
       "       'orig_destination_distance', 'random_bool', 'click_bool',\n",
       "       'booking_bool', 'prop_starrating_mean', 'prop_starrating_median',\n",
       "       'prop_review_score_mean', 'prop_review_score_median',\n",
       "       'prop_location_score1_mean', 'prop_location_score1_median',\n",
       "       'prop_location_score2_mean', 'prop_location_score2_median',\n",
       "       'prop_historical_price', 'count_window'],\n",
       "      dtype='object')"
      ]
     },
     "execution_count": 33,
     "metadata": {},
     "output_type": "execute_result"
    }
   ],
   "source": [
    "dfupsampled.columns"
   ]
  },
  {
   "cell_type": "code",
   "execution_count": 23,
   "metadata": {},
   "outputs": [],
   "source": [
    "dfupsampled=dfupsampled.drop(['srch_id','prop_id'], 1)"
   ]
  },
  {
   "cell_type": "code",
   "execution_count": 24,
   "metadata": {},
   "outputs": [],
   "source": [
    "df_new=df_new.drop(['srch_id','prop_id'], 1)"
   ]
  },
  {
   "cell_type": "code",
   "execution_count": 25,
   "metadata": {},
   "outputs": [],
   "source": [
    "Y1=df_new['click_bool']\n",
    "Y2=df_new['booking_bool']\n",
    "X=df_new.drop(['click_bool','booking_bool'], 1)\n"
   ]
  },
  {
   "cell_type": "code",
   "execution_count": null,
   "metadata": {},
   "outputs": [],
   "source": [
    "Y1=dfupsampled['click_bool']\n",
    "Y2=dfupsampled['booking_bool']\n",
    "X=dfupsampled.drop(['click_bool','booking_bool'], 1)"
   ]
  },
  {
   "cell_type": "code",
   "execution_count": 43,
   "metadata": {},
   "outputs": [
    {
     "data": {
      "text/plain": [
       "Index(['month', 'dayofweek', 'hour', 'site_id', 'visitor_location_country_id',\n",
       "       'prop_country_id', 'prop_starrating', 'prop_review_score',\n",
       "       'prop_brand_bool', 'prop_location_score1', 'prop_location_score2',\n",
       "       'prop_log_historical_price', 'price_usd', 'promotion_flag',\n",
       "       'srch_destination_id', 'srch_length_of_stay', 'srch_booking_window',\n",
       "       'srch_adults_count', 'srch_children_count', 'srch_room_count',\n",
       "       'srch_saturday_night_bool', 'orig_destination_distance', 'random_bool',\n",
       "       'prop_historical_price', 'count_window'],\n",
       "      dtype='object')"
      ]
     },
     "execution_count": 43,
     "metadata": {},
     "output_type": "execute_result"
    }
   ],
   "source": [
    "X_train.columns\n"
   ]
  },
  {
   "cell_type": "code",
   "execution_count": 49,
   "metadata": {},
   "outputs": [
    {
     "ename": "NameError",
     "evalue": "name 'Xtest' is not defined",
     "output_type": "error",
     "traceback": [
      "\u001b[1;31m---------------------------------------------------------------------------\u001b[0m",
      "\u001b[1;31mNameError\u001b[0m                                 Traceback (most recent call last)",
      "\u001b[1;32m<ipython-input-49-6b9c4c0add16>\u001b[0m in \u001b[0;36m<module>\u001b[1;34m\u001b[0m\n\u001b[1;32m----> 1\u001b[1;33m \u001b[0mXtest\u001b[0m\u001b[1;33m.\u001b[0m\u001b[0mcolumns\u001b[0m\u001b[1;33m\u001b[0m\u001b[1;33m\u001b[0m\u001b[0m\n\u001b[0m",
      "\u001b[1;31mNameError\u001b[0m: name 'Xtest' is not defined"
     ]
    }
   ],
   "source": [
    "Xtest.columns"
   ]
  },
  {
   "cell_type": "code",
   "execution_count": 34,
   "metadata": {},
   "outputs": [
    {
     "data": {
      "text/plain": [
       "Index(['month', 'dayofweek', 'hour', 'srch_id', 'site_id',\n",
       "       'visitor_location_country_id', 'prop_country_id', 'prop_id',\n",
       "       'prop_starrating', 'prop_review_score', 'prop_brand_bool',\n",
       "       'prop_location_score1', 'prop_location_score2', 'price_usd',\n",
       "       'promotion_flag', 'srch_destination_id', 'srch_length_of_stay',\n",
       "       'srch_booking_window', 'srch_adults_count', 'srch_children_count',\n",
       "       'srch_room_count', 'srch_saturday_night_bool',\n",
       "       'orig_destination_distance', 'random_bool', 'prop_starrating_mean',\n",
       "       'prop_starrating_median', 'prop_review_score_mean',\n",
       "       'prop_review_score_median', 'prop_location_score1_mean',\n",
       "       'prop_location_score1_median', 'prop_location_score2_mean',\n",
       "       'prop_location_score2_median', 'prop_historical_price', 'count_window'],\n",
       "      dtype='object')"
      ]
     },
     "execution_count": 34,
     "metadata": {},
     "output_type": "execute_result"
    }
   ],
   "source": [
    "X_train.columns"
   ]
  },
  {
   "cell_type": "code",
   "execution_count": null,
   "metadata": {},
   "outputs": [],
   "source": []
  },
  {
   "cell_type": "code",
   "execution_count": 55,
   "metadata": {},
   "outputs": [],
   "source": [
    "#y1\n",
    "X_train,X_test,y_train,y_test = train_test_split(X,Y1,test_size=0.3,random_state=1)"
   ]
  },
  {
   "cell_type": "code",
   "execution_count": 56,
   "metadata": {},
   "outputs": [],
   "source": [
    "#y2\n",
    "X_train2,X_test2,y_train2,y_test2 = train_test_split(X,Y2,test_size=0.3,random_state=1)"
   ]
  },
  {
   "cell_type": "code",
   "execution_count": 57,
   "metadata": {},
   "outputs": [
    {
     "name": "stdout",
     "output_type": "stream",
     "text": [
      "--------- Model :  Random Forests  ---------------\n",
      "\n",
      "              precision    recall  f1-score   support\n",
      "\n",
      "           0       0.63      0.67      0.65     66541\n",
      "           1       0.65      0.61      0.63     66530\n",
      "\n",
      "    accuracy                           0.64    133071\n",
      "   macro avg       0.64      0.64      0.64    133071\n",
      "weighted avg       0.64      0.64      0.64    133071\n",
      "\n",
      "Accuracy Score :  0.6384336181436977\n",
      "---------------------------------------\n",
      "\n"
     ]
    }
   ],
   "source": [
    "# make model \n",
    "rf =RandomForestClassifier(n_estimators=51,min_samples_leaf=5,min_samples_split=3)\n",
    "rf.fit(X_train,y_train)\n",
    "print_evaluation_metrics(rf,'Random Forests',X_test,y_test)"
   ]
  },
  {
   "cell_type": "code",
   "execution_count": 58,
   "metadata": {},
   "outputs": [
    {
     "name": "stdout",
     "output_type": "stream",
     "text": [
      "--------- Model :  Random Forests  ---------------\n",
      "\n",
      "              precision    recall  f1-score   support\n",
      "\n",
      "           0       0.63      0.67      0.65     66541\n",
      "           1       0.65      0.61      0.63     66530\n",
      "\n",
      "    accuracy                           0.64    133071\n",
      "   macro avg       0.64      0.64      0.64    133071\n",
      "weighted avg       0.64      0.64      0.64    133071\n",
      "\n",
      "Accuracy Score :  0.6384336181436977\n",
      "---------------------------------------\n",
      "\n"
     ]
    }
   ],
   "source": [
    "print_evaluation_metrics(rf,'Random Forests',X_test,y_test)"
   ]
  },
  {
   "cell_type": "code",
   "execution_count": 59,
   "metadata": {},
   "outputs": [
    {
     "name": "stdout",
     "output_type": "stream",
     "text": [
      "Acuraccy: 0.9262574114570418\n",
      "Confusion matrix: [[143793  11451]\n",
      " [ 11446 143809]]\n",
      "TP= 143809\n",
      "TN= 143793\n",
      "FP= 11451\n",
      "FN= 11446\n",
      "classification_error 0.07374258854295823\n",
      "Specificity 0.926238695215274\n",
      "False positive rate 0.07376130478472598\n",
      "AUC 0.9262574107940078\n"
     ]
    },
    {
     "data": {
      "image/png": "[encoded data removed]",
      "text/plain": [
       "<Figure size 432x288 with 1 Axes>"
      ]
     },
     "metadata": {
      "needs_background": "light"
     },
     "output_type": "display_data"
    }
   ],
   "source": [
    "# train evaluation click bool\n",
    "predict_train = rf.predict(X_train)\n",
    "evaluate(y_train,predict_train)"
   ]
  },
  {
   "cell_type": "code",
   "execution_count": 60,
   "metadata": {},
   "outputs": [
    {
     "name": "stdout",
     "output_type": "stream",
     "text": [
      "Acuraccy: 0.6384336181436977\n",
      "Confusion matrix: [[44535 22006]\n",
      " [26108 40422]]\n",
      "TP= 40422\n",
      "TN= 44535\n",
      "FP= 22006\n",
      "FN= 26108\n",
      "classification_error 0.3615663818563023\n",
      "Specificity 0.6692866052508979\n",
      "False positive rate 0.3307133947491021\n",
      "AUC 0.638431067543531\n"
     ]
    },
    {
     "data": {
      "image/png": "[encoded data removed]",
      "text/plain": [
       "<Figure size 432x288 with 1 Axes>"
      ]
     },
     "metadata": {
      "needs_background": "light"
     },
     "output_type": "display_data"
    }
   ],
   "source": [
    "# test evaluation click bool\n",
    "predict_test = rf.predict(X_test)\n",
    "evaluate(y_test,predict_test)"
   ]
  },
  {
   "cell_type": "code",
   "execution_count": 61,
   "metadata": {},
   "outputs": [
    {
     "name": "stdout",
     "output_type": "stream",
     "text": [
      "--------- Model :  Random Forests  ---------------\n",
      "\n",
      "              precision    recall  f1-score   support\n",
      "\n",
      "           0       0.77      0.89      0.83     91542\n",
      "           1       0.64      0.41      0.50     41529\n",
      "\n",
      "    accuracy                           0.74    133071\n",
      "   macro avg       0.70      0.65      0.66    133071\n",
      "weighted avg       0.73      0.74      0.72    133071\n",
      "\n",
      "Accuracy Score :  0.7427012647383727\n",
      "---------------------------------------\n",
      "\n"
     ]
    }
   ],
   "source": [
    "# make model \n",
    "rf2 =RandomForestClassifier(n_estimators=51,min_samples_leaf=5,min_samples_split=3)\n",
    "rf2.fit(X_train2,y_train2)\n",
    "print_evaluation_metrics(rf2,'Random Forests',X_test2,y_test2)"
   ]
  },
  {
   "cell_type": "code",
   "execution_count": 62,
   "metadata": {},
   "outputs": [
    {
     "name": "stdout",
     "output_type": "stream",
     "text": [
      "Acuraccy: 0.9162863648514166\n",
      "Confusion matrix: [[209375   4326]\n",
      " [ 21667  75131]]\n",
      "TP= 75131\n",
      "TN= 209375\n",
      "FP= 4326\n",
      "FN= 21667\n",
      "classification_error 0.08371363514858343\n",
      "Specificity 0.9797567629538467\n",
      "False positive rate 0.020243237046153273\n",
      "AUC 0.8779597467943887\n"
     ]
    },
    {
     "data": {
      "image/png": "[encoded data removed]",
      "text/plain": [
       "<Figure size 432x288 with 1 Axes>"
      ]
     },
     "metadata": {
      "needs_background": "light"
     },
     "output_type": "display_data"
    }
   ],
   "source": [
    "# train evaluation book bool\n",
    "predict_train2 = rf2.predict(X_train2)\n",
    "evaluate(y_train2,predict_train2)"
   ]
  },
  {
   "cell_type": "code",
   "execution_count": 63,
   "metadata": {},
   "outputs": [
    {
     "name": "stdout",
     "output_type": "stream",
     "text": [
      "Acuraccy: 0.7427012647383727\n",
      "Confusion matrix: [[81793  9749]\n",
      " [24490 17039]]\n",
      "TP= 17039\n",
      "TN= 81793\n",
      "FP= 9749\n",
      "FN= 24490\n",
      "classification_error 0.2572987352616273\n",
      "Specificity 0.8935024360402876\n",
      "False positive rate 0.10649756395971244\n",
      "AUC 0.6518970197490561\n"
     ]
    },
    {
     "data": {
      "image/png": "[encoded data removed]",
      "text/plain": [
       "<Figure size 432x288 with 1 Axes>"
      ]
     },
     "metadata": {
      "needs_background": "light"
     },
     "output_type": "display_data"
    }
   ],
   "source": [
    "#train evaluation book bool\n",
    "predict_test2 = rf2.predict(X_test2)\n",
    "evaluate(y_test2,predict_test2)"
   ]
  },
  {
   "cell_type": "code",
   "execution_count": 31,
   "metadata": {},
   "outputs": [],
   "source": [
    "Xtest=test.drop([\"srch_id\",\"prop_id\"], 1)"
   ]
  },
  {
   "cell_type": "code",
   "execution_count": null,
   "metadata": {},
   "outputs": [],
   "source": [
    "Xtest=Xtest.drop(['prop_location_score1_mean','prop_starrating_median','prop_review_score_mean', 'prop_review_score_median','prop_location_score1_mean', 'prop_location_score1_median','prop_location_score2_mean', 'prop_location_score2_median'], 1)"
   ]
  },
  {
   "cell_type": "code",
   "execution_count": 32,
   "metadata": {},
   "outputs": [
    {
     "data": {
      "text/plain": [
       "Index(['month', 'dayofweek', 'hour', 'site_id', 'visitor_location_country_id',\n",
       "       'prop_country_id', 'prop_starrating', 'prop_review_score',\n",
       "       'prop_brand_bool', 'prop_location_score1', 'prop_location_score2',\n",
       "       'price_usd', 'promotion_flag', 'srch_destination_id',\n",
       "       'srch_length_of_stay', 'srch_booking_window', 'srch_adults_count',\n",
       "       'srch_children_count', 'srch_room_count', 'srch_saturday_night_bool',\n",
       "       'orig_destination_distance', 'random_bool', 'prop_starrating_mean',\n",
       "       'prop_starrating_median', 'prop_review_score_mean',\n",
       "       'prop_review_score_median', 'prop_location_score1_mean',\n",
       "       'prop_location_score1_median', 'prop_location_score2_mean',\n",
       "       'prop_location_score2_median', 'prop_historical_price', 'count_window'],\n",
       "      dtype='object')"
      ]
     },
     "execution_count": 32,
     "metadata": {},
     "output_type": "execute_result"
    }
   ],
   "source": [
    "Xtest.columns"
   ]
  },
  {
   "cell_type": "code",
   "execution_count": 33,
   "metadata": {},
   "outputs": [
    {
     "data": {
      "text/plain": [
       "Index(['month', 'dayofweek', 'hour', 'site_id', 'visitor_location_country_id',\n",
       "       'prop_country_id', 'prop_starrating', 'prop_review_score',\n",
       "       'prop_brand_bool', 'prop_location_score1', 'prop_location_score2',\n",
       "       'price_usd', 'promotion_flag', 'srch_destination_id',\n",
       "       'srch_length_of_stay', 'srch_booking_window', 'srch_adults_count',\n",
       "       'srch_children_count', 'srch_room_count', 'srch_saturday_night_bool',\n",
       "       'orig_destination_distance', 'random_bool', 'prop_starrating_mean',\n",
       "       'prop_starrating_median', 'prop_review_score_mean',\n",
       "       'prop_review_score_median', 'prop_location_score1_mean',\n",
       "       'prop_location_score1_median', 'prop_location_score2_mean',\n",
       "       'prop_location_score2_median', 'prop_historical_price', 'count_window'],\n",
       "      dtype='object')"
      ]
     },
     "execution_count": 33,
     "metadata": {},
     "output_type": "execute_result"
    }
   ],
   "source": [
    "X.columns"
   ]
  },
  {
   "cell_type": "code",
   "execution_count": 49,
   "metadata": {},
   "outputs": [
    {
     "data": {
      "text/plain": [
       "(4959183, 32)"
      ]
     },
     "execution_count": 49,
     "metadata": {},
     "output_type": "execute_result"
    }
   ],
   "source": [
    "Xtest.shape"
   ]
  },
  {
   "cell_type": "code",
   "execution_count": 51,
   "metadata": {},
   "outputs": [
    {
     "data": {
      "text/plain": [
       "(310499, 34)"
      ]
     },
     "execution_count": 51,
     "metadata": {},
     "output_type": "execute_result"
    }
   ],
   "source": [
    "X_train.shape"
   ]
  },
  {
   "cell_type": "code",
   "execution_count": 86,
   "metadata": {},
   "outputs": [],
   "source": [
    "Xtest.price_usd=Xtest.price_usd.astype(int)"
   ]
  },
  {
   "cell_type": "code",
   "execution_count": 87,
   "metadata": {
    "scrolled": true
   },
   "outputs": [
    {
     "data": {
      "text/plain": [
       "month                            int64\n",
       "dayofweek                        int64\n",
       "hour                             int64\n",
       "site_id                          int64\n",
       "visitor_location_country_id      int64\n",
       "prop_country_id                  int64\n",
       "prop_starrating                  int64\n",
       "prop_review_score                int32\n",
       "prop_brand_bool                  int64\n",
       "prop_location_score1             int32\n",
       "prop_location_score2             int32\n",
       "price_usd                        int32\n",
       "promotion_flag                   int64\n",
       "srch_destination_id              int64\n",
       "srch_length_of_stay              int64\n",
       "srch_booking_window              int64\n",
       "srch_adults_count                int64\n",
       "srch_children_count              int64\n",
       "srch_room_count                  int64\n",
       "srch_saturday_night_bool         int64\n",
       "orig_destination_distance      float64\n",
       "random_bool                      int64\n",
       "prop_historical_price          float64\n",
       "count_window                     int64\n",
       "prop_starrating_mean             int64\n",
       "dtype: object"
      ]
     },
     "execution_count": 87,
     "metadata": {},
     "output_type": "execute_result"
    }
   ],
   "source": [
    "Xtest.dtypes"
   ]
  },
  {
   "cell_type": "code",
   "execution_count": null,
   "metadata": {},
   "outputs": [],
   "source": [
    "clickBoolPred=rf.predict(Xtest)"
   ]
  },
  {
   "cell_type": "code",
   "execution_count": null,
   "metadata": {},
   "outputs": [],
   "source": [
    "bookBoolPred=rf2.predict(Xtest)"
   ]
  },
  {
   "cell_type": "code",
   "execution_count": null,
   "metadata": {},
   "outputs": [],
   "source": [
    "test[\"clickBoolPred\"]=clickBoolPred"
   ]
  },
  {
   "cell_type": "code",
   "execution_count": null,
   "metadata": {},
   "outputs": [],
   "source": [
    "test[\"clickBoolPred\"].value_counts()"
   ]
  },
  {
   "cell_type": "code",
   "execution_count": null,
   "metadata": {},
   "outputs": [],
   "source": [
    "test.head()"
   ]
  },
  {
   "cell_type": "code",
   "execution_count": null,
   "metadata": {},
   "outputs": [],
   "source": [
    "test[\"bookBoolPred\"]=bookBoolPred"
   ]
  },
  {
   "cell_type": "code",
   "execution_count": 2,
   "metadata": {},
   "outputs": [],
   "source": [
    "clickboolpred = pd.read_csv(\"clickboolpred.csv\")\n",
    "bookboolpred = pd.read_csv(\"bookboolpred.csv\")"
   ]
  },
  {
   "cell_type": "code",
   "execution_count": 3,
   "metadata": {},
   "outputs": [],
   "source": [
    "clickboolpred['bookBoolPred']=bookboolpred['bookBoolPred']"
   ]
  },
  {
   "cell_type": "code",
   "execution_count": 6,
   "metadata": {},
   "outputs": [
    {
     "data": {
      "text/html": [
       "<div>\n",
       "<style scoped>\n",
       "    .dataframe tbody tr th:only-of-type {\n",
       "        vertical-align: middle;\n",
       "    }\n",
       "\n",
       "    .dataframe tbody tr th {\n",
       "        vertical-align: top;\n",
       "    }\n",
       "\n",
       "    .dataframe thead th {\n",
       "        text-align: right;\n",
       "    }\n",
       "</style>\n",
       "<table border=\"1\" class=\"dataframe\">\n",
       "  <thead>\n",
       "    <tr style=\"text-align: right;\">\n",
       "      <th></th>\n",
       "      <th>month</th>\n",
       "      <th>dayofweek</th>\n",
       "      <th>hour</th>\n",
       "      <th>srch_id</th>\n",
       "      <th>site_id</th>\n",
       "      <th>visitor_location_country_id</th>\n",
       "      <th>prop_country_id</th>\n",
       "      <th>prop_id</th>\n",
       "      <th>prop_starrating</th>\n",
       "      <th>prop_review_score</th>\n",
       "      <th>...</th>\n",
       "      <th>prop_review_score_mean</th>\n",
       "      <th>prop_review_score_median</th>\n",
       "      <th>prop_location_score1_mean</th>\n",
       "      <th>prop_location_score1_median</th>\n",
       "      <th>prop_location_score2_mean</th>\n",
       "      <th>prop_location_score2_median</th>\n",
       "      <th>prop_historical_price</th>\n",
       "      <th>count_window</th>\n",
       "      <th>clickBoolPred</th>\n",
       "      <th>bookBoolPred</th>\n",
       "    </tr>\n",
       "  </thead>\n",
       "  <tbody>\n",
       "    <tr>\n",
       "      <th>0</th>\n",
       "      <td>2</td>\n",
       "      <td>5</td>\n",
       "      <td>15</td>\n",
       "      <td>1</td>\n",
       "      <td>24</td>\n",
       "      <td>216</td>\n",
       "      <td>219</td>\n",
       "      <td>3180</td>\n",
       "      <td>3</td>\n",
       "      <td>4.5</td>\n",
       "      <td>...</td>\n",
       "      <td>4.5</td>\n",
       "      <td>4.5</td>\n",
       "      <td>2.94</td>\n",
       "      <td>2.94</td>\n",
       "      <td>0.043491</td>\n",
       "      <td>0.0691</td>\n",
       "      <td>152.933013</td>\n",
       "      <td>508</td>\n",
       "      <td>0</td>\n",
       "      <td>0</td>\n",
       "    </tr>\n",
       "    <tr>\n",
       "      <th>1</th>\n",
       "      <td>2</td>\n",
       "      <td>5</td>\n",
       "      <td>15</td>\n",
       "      <td>1</td>\n",
       "      <td>24</td>\n",
       "      <td>216</td>\n",
       "      <td>219</td>\n",
       "      <td>5543</td>\n",
       "      <td>3</td>\n",
       "      <td>4.5</td>\n",
       "      <td>...</td>\n",
       "      <td>4.5</td>\n",
       "      <td>4.5</td>\n",
       "      <td>2.64</td>\n",
       "      <td>2.64</td>\n",
       "      <td>0.038567</td>\n",
       "      <td>0.0106</td>\n",
       "      <td>138.379512</td>\n",
       "      <td>508</td>\n",
       "      <td>0</td>\n",
       "      <td>0</td>\n",
       "    </tr>\n",
       "    <tr>\n",
       "      <th>2</th>\n",
       "      <td>2</td>\n",
       "      <td>5</td>\n",
       "      <td>15</td>\n",
       "      <td>1</td>\n",
       "      <td>24</td>\n",
       "      <td>216</td>\n",
       "      <td>219</td>\n",
       "      <td>14142</td>\n",
       "      <td>2</td>\n",
       "      <td>3.5</td>\n",
       "      <td>...</td>\n",
       "      <td>3.5</td>\n",
       "      <td>3.5</td>\n",
       "      <td>2.71</td>\n",
       "      <td>2.71</td>\n",
       "      <td>0.036760</td>\n",
       "      <td>0.0556</td>\n",
       "      <td>64.071523</td>\n",
       "      <td>508</td>\n",
       "      <td>0</td>\n",
       "      <td>0</td>\n",
       "    </tr>\n",
       "    <tr>\n",
       "      <th>3</th>\n",
       "      <td>2</td>\n",
       "      <td>5</td>\n",
       "      <td>15</td>\n",
       "      <td>1</td>\n",
       "      <td>24</td>\n",
       "      <td>216</td>\n",
       "      <td>219</td>\n",
       "      <td>22393</td>\n",
       "      <td>3</td>\n",
       "      <td>4.5</td>\n",
       "      <td>...</td>\n",
       "      <td>4.5</td>\n",
       "      <td>4.5</td>\n",
       "      <td>2.40</td>\n",
       "      <td>2.40</td>\n",
       "      <td>0.037828</td>\n",
       "      <td>0.0561</td>\n",
       "      <td>152.933013</td>\n",
       "      <td>508</td>\n",
       "      <td>0</td>\n",
       "      <td>0</td>\n",
       "    </tr>\n",
       "    <tr>\n",
       "      <th>4</th>\n",
       "      <td>2</td>\n",
       "      <td>5</td>\n",
       "      <td>15</td>\n",
       "      <td>1</td>\n",
       "      <td>24</td>\n",
       "      <td>216</td>\n",
       "      <td>219</td>\n",
       "      <td>24194</td>\n",
       "      <td>3</td>\n",
       "      <td>4.5</td>\n",
       "      <td>...</td>\n",
       "      <td>4.5</td>\n",
       "      <td>4.5</td>\n",
       "      <td>2.94</td>\n",
       "      <td>2.94</td>\n",
       "      <td>0.125222</td>\n",
       "      <td>0.0712</td>\n",
       "      <td>112.168253</td>\n",
       "      <td>508</td>\n",
       "      <td>0</td>\n",
       "      <td>0</td>\n",
       "    </tr>\n",
       "  </tbody>\n",
       "</table>\n",
       "<p>5 rows × 36 columns</p>\n",
       "</div>"
      ],
      "text/plain": [
       "   month  dayofweek  hour  srch_id  site_id  visitor_location_country_id  \\\n",
       "0      2          5    15        1       24                          216   \n",
       "1      2          5    15        1       24                          216   \n",
       "2      2          5    15        1       24                          216   \n",
       "3      2          5    15        1       24                          216   \n",
       "4      2          5    15        1       24                          216   \n",
       "\n",
       "   prop_country_id  prop_id  prop_starrating  prop_review_score  ...  \\\n",
       "0              219     3180                3                4.5  ...   \n",
       "1              219     5543                3                4.5  ...   \n",
       "2              219    14142                2                3.5  ...   \n",
       "3              219    22393                3                4.5  ...   \n",
       "4              219    24194                3                4.5  ...   \n",
       "\n",
       "   prop_review_score_mean  prop_review_score_median  \\\n",
       "0                     4.5                       4.5   \n",
       "1                     4.5                       4.5   \n",
       "2                     3.5                       3.5   \n",
       "3                     4.5                       4.5   \n",
       "4                     4.5                       4.5   \n",
       "\n",
       "   prop_location_score1_mean  prop_location_score1_median  \\\n",
       "0                       2.94                         2.94   \n",
       "1                       2.64                         2.64   \n",
       "2                       2.71                         2.71   \n",
       "3                       2.40                         2.40   \n",
       "4                       2.94                         2.94   \n",
       "\n",
       "   prop_location_score2_mean  prop_location_score2_median  \\\n",
       "0                   0.043491                       0.0691   \n",
       "1                   0.038567                       0.0106   \n",
       "2                   0.036760                       0.0556   \n",
       "3                   0.037828                       0.0561   \n",
       "4                   0.125222                       0.0712   \n",
       "\n",
       "   prop_historical_price  count_window  clickBoolPred  bookBoolPred  \n",
       "0             152.933013           508              0             0  \n",
       "1             138.379512           508              0             0  \n",
       "2              64.071523           508              0             0  \n",
       "3             152.933013           508              0             0  \n",
       "4             112.168253           508              0             0  \n",
       "\n",
       "[5 rows x 36 columns]"
      ]
     },
     "execution_count": 6,
     "metadata": {},
     "output_type": "execute_result"
    }
   ],
   "source": [
    "clickboolpred.head()"
   ]
  },
  {
   "cell_type": "code",
   "execution_count": null,
   "metadata": {},
   "outputs": [],
   "source": [
    "clickboolpred['score'] = ( (clickboolpred[\"clickBoolPred\"] == 1).astype(int)*1 + (clickboolpred['bookBoolPred'] == 1).astype(int)*5)"
   ]
  },
  {
   "cell_type": "code",
   "execution_count": null,
   "metadata": {},
   "outputs": [],
   "source": [
    "clickboolpred['score'] = -clickboolpred['score']"
   ]
  },
  {
   "cell_type": "code",
   "execution_count": null,
   "metadata": {},
   "outputs": [],
   "source": [
    "sorted_df = clickboolpred[['srch_id', 'prop_id', 'score']].sort_values(['srch_id', 'score'])"
   ]
  },
  {
   "cell_type": "code",
   "execution_count": null,
   "metadata": {},
   "outputs": [],
   "source": [
    "sorted_df.score = -sorted_df.score"
   ]
  },
  {
   "cell_type": "code",
   "execution_count": null,
   "metadata": {},
   "outputs": [],
   "source": [
    "test['score'] = ( (test[\"clickBoolPred\"] == 1).astype(int)*1 + (test['bookBoolPred'] == 1).astype(int)*5)"
   ]
  },
  {
   "cell_type": "code",
   "execution_count": null,
   "metadata": {},
   "outputs": [],
   "source": [
    "test['score'] = -test['score']"
   ]
  },
  {
   "cell_type": "code",
   "execution_count": null,
   "metadata": {},
   "outputs": [],
   "source": [
    "sorted_df = test[['srch_id', 'prop_id', 'score']].sort_values(['srch_id', 'score'])"
   ]
  },
  {
   "cell_type": "code",
   "execution_count": null,
   "metadata": {},
   "outputs": [],
   "source": [
    "sorted_df.score = -sorted_df.score"
   ]
  },
  {
   "cell_type": "code",
   "execution_count": null,
   "metadata": {},
   "outputs": [],
   "source": [
    "sorted_df.head()"
   ]
  },
  {
   "cell_type": "code",
   "execution_count": null,
   "metadata": {},
   "outputs": [],
   "source": [
    "submission = pd.DataFrame({ 'srch_id': sorted_df.srch_id, 'prop_id': sorted_df.prop_id})[['srch_id', 'prop_id']]\n",
    "submission.to_csv('submision7.csv', index=False)"
   ]
  },
  {
   "cell_type": "code",
   "execution_count": 32,
   "metadata": {},
   "outputs": [],
   "source": [
    "test.to_csv('bookboolpred.csv', index=False)"
   ]
  },
  {
   "cell_type": "code",
   "execution_count": 65,
   "metadata": {},
   "outputs": [
    {
     "data": {
      "text/plain": [
       "Index(['month', 'dayofweek', 'hour', 'srch_id', 'site_id',\n",
       "       'visitor_location_country_id', 'prop_country_id', 'prop_id',\n",
       "       'prop_starrating', 'prop_review_score', 'prop_brand_bool',\n",
       "       'prop_location_score1', 'prop_location_score2',\n",
       "       'prop_log_historical_price', 'price_usd', 'promotion_flag',\n",
       "       'srch_destination_id', 'srch_length_of_stay', 'srch_booking_window',\n",
       "       'srch_adults_count', 'srch_children_count', 'srch_room_count',\n",
       "       'srch_saturday_night_bool', 'orig_destination_distance', 'random_bool',\n",
       "       'click_bool', 'booking_bool', 'prop_starrating_mean',\n",
       "       'prop_starrating_median', 'prop_review_score_mean',\n",
       "       'prop_review_score_median', 'prop_location_score1_mean',\n",
       "       'prop_location_score1_median', 'prop_location_score2_mean',\n",
       "       'prop_location_score2_median', 'count_window', 'prop_historical_price'],\n",
       "      dtype='object')"
      ]
     },
     "execution_count": 65,
     "metadata": {},
     "output_type": "execute_result"
    }
   ],
   "source": [
    "df.columns"
   ]
  },
  {
   "cell_type": "code",
   "execution_count": 91,
   "metadata": {},
   "outputs": [
    {
     "data": {
      "image/png": "[encoded data removed]",
      "text/plain": [
       "<Figure size 720x504 with 1 Axes>"
      ]
     },
     "metadata": {
      "needs_background": "light"
     },
     "output_type": "display_data"
    }
   ],
   "source": [
    "#clickbool\n",
    "plt=(pd.Series(rf.feature_importances_, index=Xtest.columns).plot(kind='barh', figsize=(10, 7)))"
   ]
  },
  {
   "cell_type": "code",
   "execution_count": 86,
   "metadata": {},
   "outputs": [
    {
     "ename": "AttributeError",
     "evalue": "'AxesSubplot' object has no attribute 'subplots'",
     "output_type": "error",
     "traceback": [
      "\u001b[1;31m---------------------------------------------------------------------------\u001b[0m",
      "\u001b[1;31mAttributeError\u001b[0m                            Traceback (most recent call last)",
      "\u001b[1;32m<ipython-input-86-b7536f954f8f>\u001b[0m in \u001b[0;36m<module>\u001b[1;34m\u001b[0m\n\u001b[0;32m      1\u001b[0m \u001b[1;31m#bookbool\u001b[0m\u001b[1;33m\u001b[0m\u001b[1;33m\u001b[0m\u001b[1;33m\u001b[0m\u001b[0m\n\u001b[0;32m      2\u001b[0m \u001b[0mplt\u001b[0m\u001b[1;33m=\u001b[0m\u001b[1;33m(\u001b[0m\u001b[0mpd\u001b[0m\u001b[1;33m.\u001b[0m\u001b[0mSeries\u001b[0m\u001b[1;33m(\u001b[0m\u001b[0mrf2\u001b[0m\u001b[1;33m.\u001b[0m\u001b[0mfeature_importances_\u001b[0m\u001b[1;33m,\u001b[0m \u001b[0mindex\u001b[0m\u001b[1;33m=\u001b[0m\u001b[0mXtest\u001b[0m\u001b[1;33m.\u001b[0m\u001b[0mcolumns\u001b[0m\u001b[1;33m)\u001b[0m\u001b[1;33m.\u001b[0m\u001b[0mplot\u001b[0m\u001b[1;33m(\u001b[0m\u001b[0mkind\u001b[0m\u001b[1;33m=\u001b[0m\u001b[1;34m'barh'\u001b[0m\u001b[1;33m,\u001b[0m \u001b[0mfigsize\u001b[0m\u001b[1;33m=\u001b[0m\u001b[1;33m(\u001b[0m\u001b[1;36m10\u001b[0m\u001b[1;33m,\u001b[0m \u001b[1;36m7\u001b[0m\u001b[1;33m)\u001b[0m\u001b[1;33m)\u001b[0m\u001b[1;33m)\u001b[0m\u001b[1;33m\u001b[0m\u001b[1;33m\u001b[0m\u001b[0m\n\u001b[1;32m----> 3\u001b[1;33m \u001b[0mplt\u001b[0m\u001b[1;33m.\u001b[0m\u001b[0msubplots\u001b[0m\u001b[1;33m\u001b[0m\u001b[1;33m\u001b[0m\u001b[0m\n\u001b[0m\u001b[0;32m      4\u001b[0m \u001b[0mplt\u001b[0m\u001b[1;33m.\u001b[0m\u001b[0msavefig\u001b[0m\u001b[1;33m(\u001b[0m\u001b[1;34m\"bookbool features\"\u001b[0m\u001b[1;33m,\u001b[0m \u001b[0mdpi\u001b[0m\u001b[1;33m=\u001b[0m\u001b[1;36m400\u001b[0m\u001b[1;33m)\u001b[0m\u001b[1;33m\u001b[0m\u001b[1;33m\u001b[0m\u001b[0m\n",
      "\u001b[1;31mAttributeError\u001b[0m: 'AxesSubplot' object has no attribute 'subplots'"
     ]
    },
    {
     "data": {
      "image/png": "[encoded data removed]",
      "text/plain": [
       "<Figure size 720x504 with 1 Axes>"
      ]
     },
     "metadata": {
      "needs_background": "light"
     },
     "output_type": "display_data"
    }
   ],
   "source": [
    "#bookbool\n",
    "plt=(pd.Series(rf2.feature_importances_, index=Xtest.columns).plot(kind='barh', figsize=(10, 7)))\n"
   ]
  },
  {
   "cell_type": "code",
   "execution_count": 99,
   "metadata": {},
   "outputs": [
    {
     "data": {
      "text/plain": [
       "4514589"
      ]
     },
     "execution_count": 99,
     "metadata": {},
     "output_type": "execute_result"
    }
   ],
   "source": [
    "4736468-221879"
   ]
  },
  {
   "cell_type": "code",
   "execution_count": 36,
   "metadata": {},
   "outputs": [
    {
     "data": {
      "text/plain": [
       "(443758, 37)"
      ]
     },
     "execution_count": 36,
     "metadata": {},
     "output_type": "execute_result"
    }
   ],
   "source": [
    "df_new.shape"
   ]
  },
  {
   "cell_type": "code",
   "execution_count": 75,
   "metadata": {},
   "outputs": [
    {
     "data": {
      "text/html": [
       "<div>\n",
       "<style scoped>\n",
       "    .dataframe tbody tr th:only-of-type {\n",
       "        vertical-align: middle;\n",
       "    }\n",
       "\n",
       "    .dataframe tbody tr th {\n",
       "        vertical-align: top;\n",
       "    }\n",
       "\n",
       "    .dataframe thead th {\n",
       "        text-align: right;\n",
       "    }\n",
       "</style>\n",
       "<table border=\"1\" class=\"dataframe\">\n",
       "  <thead>\n",
       "    <tr style=\"text-align: right;\">\n",
       "      <th></th>\n",
       "      <th>month</th>\n",
       "      <th>dayofweek</th>\n",
       "      <th>hour</th>\n",
       "      <th>srch_id</th>\n",
       "      <th>site_id</th>\n",
       "      <th>visitor_location_country_id</th>\n",
       "      <th>prop_country_id</th>\n",
       "      <th>prop_id</th>\n",
       "      <th>prop_starrating</th>\n",
       "      <th>prop_review_score</th>\n",
       "      <th>...</th>\n",
       "      <th>prop_review_score_median</th>\n",
       "      <th>prop_location_score1_mean</th>\n",
       "      <th>prop_location_score1_median</th>\n",
       "      <th>prop_location_score2_mean</th>\n",
       "      <th>prop_location_score2_median</th>\n",
       "      <th>prop_historical_price</th>\n",
       "      <th>count_window</th>\n",
       "      <th>clickBoolPred</th>\n",
       "      <th>bookBoolPred</th>\n",
       "      <th>score</th>\n",
       "    </tr>\n",
       "  </thead>\n",
       "  <tbody>\n",
       "    <tr>\n",
       "      <th>0</th>\n",
       "      <td>2</td>\n",
       "      <td>5</td>\n",
       "      <td>15</td>\n",
       "      <td>1</td>\n",
       "      <td>24</td>\n",
       "      <td>216</td>\n",
       "      <td>219</td>\n",
       "      <td>3180</td>\n",
       "      <td>3</td>\n",
       "      <td>4.5</td>\n",
       "      <td>...</td>\n",
       "      <td>4.5</td>\n",
       "      <td>2.94</td>\n",
       "      <td>2.94</td>\n",
       "      <td>0.043491</td>\n",
       "      <td>0.0691</td>\n",
       "      <td>152.933013</td>\n",
       "      <td>508</td>\n",
       "      <td>1</td>\n",
       "      <td>0</td>\n",
       "      <td>-1</td>\n",
       "    </tr>\n",
       "    <tr>\n",
       "      <th>1</th>\n",
       "      <td>2</td>\n",
       "      <td>5</td>\n",
       "      <td>15</td>\n",
       "      <td>1</td>\n",
       "      <td>24</td>\n",
       "      <td>216</td>\n",
       "      <td>219</td>\n",
       "      <td>5543</td>\n",
       "      <td>3</td>\n",
       "      <td>4.5</td>\n",
       "      <td>...</td>\n",
       "      <td>4.5</td>\n",
       "      <td>2.64</td>\n",
       "      <td>2.64</td>\n",
       "      <td>0.038567</td>\n",
       "      <td>0.0106</td>\n",
       "      <td>138.379512</td>\n",
       "      <td>508</td>\n",
       "      <td>1</td>\n",
       "      <td>1</td>\n",
       "      <td>-6</td>\n",
       "    </tr>\n",
       "    <tr>\n",
       "      <th>2</th>\n",
       "      <td>2</td>\n",
       "      <td>5</td>\n",
       "      <td>15</td>\n",
       "      <td>1</td>\n",
       "      <td>24</td>\n",
       "      <td>216</td>\n",
       "      <td>219</td>\n",
       "      <td>14142</td>\n",
       "      <td>2</td>\n",
       "      <td>3.5</td>\n",
       "      <td>...</td>\n",
       "      <td>3.5</td>\n",
       "      <td>2.71</td>\n",
       "      <td>2.71</td>\n",
       "      <td>0.036760</td>\n",
       "      <td>0.0556</td>\n",
       "      <td>64.071523</td>\n",
       "      <td>508</td>\n",
       "      <td>0</td>\n",
       "      <td>0</td>\n",
       "      <td>0</td>\n",
       "    </tr>\n",
       "    <tr>\n",
       "      <th>3</th>\n",
       "      <td>2</td>\n",
       "      <td>5</td>\n",
       "      <td>15</td>\n",
       "      <td>1</td>\n",
       "      <td>24</td>\n",
       "      <td>216</td>\n",
       "      <td>219</td>\n",
       "      <td>22393</td>\n",
       "      <td>3</td>\n",
       "      <td>4.5</td>\n",
       "      <td>...</td>\n",
       "      <td>4.5</td>\n",
       "      <td>2.40</td>\n",
       "      <td>2.40</td>\n",
       "      <td>0.037828</td>\n",
       "      <td>0.0561</td>\n",
       "      <td>152.933013</td>\n",
       "      <td>508</td>\n",
       "      <td>0</td>\n",
       "      <td>0</td>\n",
       "      <td>0</td>\n",
       "    </tr>\n",
       "    <tr>\n",
       "      <th>4</th>\n",
       "      <td>2</td>\n",
       "      <td>5</td>\n",
       "      <td>15</td>\n",
       "      <td>1</td>\n",
       "      <td>24</td>\n",
       "      <td>216</td>\n",
       "      <td>219</td>\n",
       "      <td>24194</td>\n",
       "      <td>3</td>\n",
       "      <td>4.5</td>\n",
       "      <td>...</td>\n",
       "      <td>4.5</td>\n",
       "      <td>2.94</td>\n",
       "      <td>2.94</td>\n",
       "      <td>0.125222</td>\n",
       "      <td>0.0712</td>\n",
       "      <td>112.168253</td>\n",
       "      <td>508</td>\n",
       "      <td>1</td>\n",
       "      <td>0</td>\n",
       "      <td>-1</td>\n",
       "    </tr>\n",
       "  </tbody>\n",
       "</table>\n",
       "<p>5 rows × 37 columns</p>\n",
       "</div>"
      ],
      "text/plain": [
       "   month  dayofweek  hour  srch_id  site_id  visitor_location_country_id  \\\n",
       "0      2          5    15        1       24                          216   \n",
       "1      2          5    15        1       24                          216   \n",
       "2      2          5    15        1       24                          216   \n",
       "3      2          5    15        1       24                          216   \n",
       "4      2          5    15        1       24                          216   \n",
       "\n",
       "   prop_country_id  prop_id  prop_starrating  prop_review_score  ...  \\\n",
       "0              219     3180                3                4.5  ...   \n",
       "1              219     5543                3                4.5  ...   \n",
       "2              219    14142                2                3.5  ...   \n",
       "3              219    22393                3                4.5  ...   \n",
       "4              219    24194                3                4.5  ...   \n",
       "\n",
       "   prop_review_score_median  prop_location_score1_mean  \\\n",
       "0                       4.5                       2.94   \n",
       "1                       4.5                       2.64   \n",
       "2                       3.5                       2.71   \n",
       "3                       4.5                       2.40   \n",
       "4                       4.5                       2.94   \n",
       "\n",
       "   prop_location_score1_median  prop_location_score2_mean  \\\n",
       "0                         2.94                   0.043491   \n",
       "1                         2.64                   0.038567   \n",
       "2                         2.71                   0.036760   \n",
       "3                         2.40                   0.037828   \n",
       "4                         2.94                   0.125222   \n",
       "\n",
       "   prop_location_score2_median  prop_historical_price  count_window  \\\n",
       "0                       0.0691             152.933013           508   \n",
       "1                       0.0106             138.379512           508   \n",
       "2                       0.0556              64.071523           508   \n",
       "3                       0.0561             152.933013           508   \n",
       "4                       0.0712             112.168253           508   \n",
       "\n",
       "   clickBoolPred  bookBoolPred  score  \n",
       "0              1             0     -1  \n",
       "1              1             1     -6  \n",
       "2              0             0      0  \n",
       "3              0             0      0  \n",
       "4              1             0     -1  \n",
       "\n",
       "[5 rows x 37 columns]"
      ]
     },
     "execution_count": 75,
     "metadata": {},
     "output_type": "execute_result"
    }
   ],
   "source": [
    "test.head()"
   ]
  },
  {
   "cell_type": "code",
   "execution_count": 26,
   "metadata": {},
   "outputs": [
    {
     "data": {
      "text/plain": [
       "month                          0\n",
       "dayofweek                      0\n",
       "hour                           0\n",
       "srch_id                        0\n",
       "site_id                        0\n",
       "visitor_location_country_id    0\n",
       "prop_country_id                0\n",
       "prop_id                        0\n",
       "prop_starrating                0\n",
       "prop_review_score              0\n",
       "prop_brand_bool                0\n",
       "prop_location_score1           0\n",
       "prop_location_score2           0\n",
       "prop_log_historical_price      0\n",
       "price_usd                      0\n",
       "promotion_flag                 0\n",
       "srch_destination_id            0\n",
       "srch_length_of_stay            0\n",
       "srch_booking_window            0\n",
       "srch_adults_count              0\n",
       "srch_children_count            0\n",
       "srch_room_count                0\n",
       "srch_saturday_night_bool       0\n",
       "orig_destination_distance      0\n",
       "random_bool                    0\n",
       "click_bool                     0\n",
       "booking_bool                   0\n",
       "prop_starrating_mean           0\n",
       "prop_starrating_median         0\n",
       "prop_review_score_mean         0\n",
       "prop_review_score_median       0\n",
       "prop_location_score1_mean      0\n",
       "prop_location_score1_median    0\n",
       "prop_location_score2_mean      0\n",
       "prop_location_score2_median    0\n",
       "count_window                   0\n",
       "prop_historical_price          0\n",
       "dtype: int64"
      ]
     },
     "execution_count": 26,
     "metadata": {},
     "output_type": "execute_result"
    }
   ],
   "source": [
    "df.isnull().sum()"
   ]
  },
  {
   "cell_type": "code",
   "execution_count": 27,
   "metadata": {},
   "outputs": [
    {
     "data": {
      "text/plain": [
       "month                          0\n",
       "dayofweek                      0\n",
       "hour                           0\n",
       "srch_id                        0\n",
       "site_id                        0\n",
       "visitor_location_country_id    0\n",
       "prop_country_id                0\n",
       "prop_id                        0\n",
       "prop_starrating                0\n",
       "prop_review_score              0\n",
       "prop_brand_bool                0\n",
       "prop_location_score1           0\n",
       "prop_location_score2           0\n",
       "prop_log_historical_price      0\n",
       "price_usd                      0\n",
       "promotion_flag                 0\n",
       "srch_destination_id            0\n",
       "srch_length_of_stay            0\n",
       "srch_booking_window            0\n",
       "srch_adults_count              0\n",
       "srch_children_count            0\n",
       "srch_room_count                0\n",
       "srch_saturday_night_bool       0\n",
       "orig_destination_distance      0\n",
       "random_bool                    0\n",
       "prop_starrating_mean           0\n",
       "prop_starrating_median         0\n",
       "prop_review_score_mean         0\n",
       "prop_review_score_median       0\n",
       "prop_location_score1_mean      0\n",
       "prop_location_score1_median    0\n",
       "prop_location_score2_mean      0\n",
       "prop_location_score2_median    0\n",
       "dtype: int64"
      ]
     },
     "execution_count": 27,
     "metadata": {},
     "output_type": "execute_result"
    }
   ],
   "source": [
    "test.isnull().sum()"
   ]
  },
  {
   "cell_type": "code",
   "execution_count": 32,
   "metadata": {},
   "outputs": [
    {
     "data": {
      "text/plain": [
       "37"
      ]
     },
     "execution_count": 32,
     "metadata": {},
     "output_type": "execute_result"
    }
   ],
   "source": [
    "len(df.columns)"
   ]
  },
  {
   "cell_type": "code",
   "execution_count": 40,
   "metadata": {},
   "outputs": [
    {
     "data": {
      "text/plain": [
       "Index(['month', 'dayofweek', 'hour', 'srch_id', 'site_id',\n",
       "       'visitor_location_country_id', 'prop_country_id', 'prop_id',\n",
       "       'prop_starrating', 'prop_review_score', 'prop_brand_bool',\n",
       "       'prop_location_score1', 'prop_location_score2',\n",
       "       'prop_log_historical_price', 'price_usd', 'promotion_flag',\n",
       "       'srch_destination_id', 'srch_length_of_stay', 'srch_booking_window',\n",
       "       'srch_adults_count', 'srch_children_count', 'srch_room_count',\n",
       "       'srch_saturday_night_bool', 'orig_destination_distance', 'random_bool',\n",
       "       'click_bool', 'booking_bool', 'prop_starrating_mean',\n",
       "       'prop_starrating_median', 'prop_review_score_mean',\n",
       "       'prop_review_score_median', 'prop_location_score1_mean',\n",
       "       'prop_location_score1_median', 'prop_location_score2_mean',\n",
       "       'prop_location_score2_median', 'count_window', 'prop_historical_price'],\n",
       "      dtype='object')"
      ]
     },
     "execution_count": 40,
     "metadata": {},
     "output_type": "execute_result"
    }
   ],
   "source": [
    "df.columns"
   ]
  },
  {
   "cell_type": "code",
   "execution_count": 27,
   "metadata": {},
   "outputs": [
    {
     "ename": "NameError",
     "evalue": "name 'X_test' is not defined",
     "output_type": "error",
     "traceback": [
      "\u001b[1;31m---------------------------------------------------------------------------\u001b[0m",
      "\u001b[1;31mNameError\u001b[0m                                 Traceback (most recent call last)",
      "\u001b[1;32m<ipython-input-27-304d4bab394d>\u001b[0m in \u001b[0;36m<module>\u001b[1;34m\u001b[0m\n\u001b[0;32m      2\u001b[0m \u001b[0mrf\u001b[0m \u001b[1;33m=\u001b[0m\u001b[0mRandomForestClassifier\u001b[0m\u001b[1;33m(\u001b[0m\u001b[0mn_estimators\u001b[0m\u001b[1;33m=\u001b[0m\u001b[1;36m51\u001b[0m\u001b[1;33m,\u001b[0m\u001b[0mmin_samples_leaf\u001b[0m\u001b[1;33m=\u001b[0m\u001b[1;36m5\u001b[0m\u001b[1;33m,\u001b[0m\u001b[0mmin_samples_split\u001b[0m\u001b[1;33m=\u001b[0m\u001b[1;36m3\u001b[0m\u001b[1;33m)\u001b[0m\u001b[1;33m\u001b[0m\u001b[1;33m\u001b[0m\u001b[0m\n\u001b[0;32m      3\u001b[0m \u001b[0mrf\u001b[0m\u001b[1;33m.\u001b[0m\u001b[0mfit\u001b[0m\u001b[1;33m(\u001b[0m\u001b[0mX\u001b[0m\u001b[1;33m,\u001b[0m\u001b[0mY1\u001b[0m\u001b[1;33m)\u001b[0m\u001b[1;33m\u001b[0m\u001b[1;33m\u001b[0m\u001b[0m\n\u001b[1;32m----> 4\u001b[1;33m \u001b[0mprint_evaluation_metrics\u001b[0m\u001b[1;33m(\u001b[0m\u001b[0mrf\u001b[0m\u001b[1;33m,\u001b[0m\u001b[1;34m'Random Forests'\u001b[0m\u001b[1;33m,\u001b[0m\u001b[0mX_test\u001b[0m\u001b[1;33m,\u001b[0m\u001b[0my_test\u001b[0m\u001b[1;33m)\u001b[0m\u001b[1;33m\u001b[0m\u001b[1;33m\u001b[0m\u001b[0m\n\u001b[0m",
      "\u001b[1;31mNameError\u001b[0m: name 'X_test' is not defined"
     ]
    }
   ],
   "source": [
    "# make model \n",
    "rf =RandomForestClassifier(n_estimators=51,min_samples_leaf=5,min_samples_split=3)\n",
    "rf.fit(X,Y1)"
   ]
  },
  {
   "cell_type": "code",
   "execution_count": 28,
   "metadata": {},
   "outputs": [
    {
     "data": {
      "text/plain": [
       "RandomForestClassifier(min_samples_leaf=5, min_samples_split=3, n_estimators=51)"
      ]
     },
     "execution_count": 28,
     "metadata": {},
     "output_type": "execute_result"
    }
   ],
   "source": [
    "# make model \n",
    "rf2 =RandomForestClassifier(n_estimators=51,min_samples_leaf=5,min_samples_split=3)\n",
    "rf2.fit(X,Y2)"
   ]
  }
 ],
 "metadata": {
  "kernelspec": {
   "display_name": "Python 3",
   "language": "python",
   "name": "python3"
  },
  "language_info": {
   "codemirror_mode": {
    "name": "ipython",
    "version": 3
   },
   "file_extension": ".py",
   "mimetype": "text/x-python",
   "name": "python",
   "nbconvert_exporter": "python",
   "pygments_lexer": "ipython3",
   "version": "3.8.5"
  }
 },
 "nbformat": 4,
 "nbformat_minor": 4
}
